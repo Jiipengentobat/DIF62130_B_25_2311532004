{
  "nbformat": 4,
  "nbformat_minor": 0,
  "metadata": {
    "colab": {
      "provenance": []
    },
    "kernelspec": {
      "name": "python3",
      "display_name": "Python 3"
    },
    "language_info": {
      "name": "python"
    }
  },
  "cells": [
    {
      "cell_type": "code",
      "execution_count": 8,
      "metadata": {
        "colab": {
          "base_uri": "https://localhost:8080/"
        },
        "id": "-D9XeLPaziNa",
        "outputId": "852c42c7-a5e2-4f94-ac2a-5e54383ef5dc"
      },
      "outputs": [
        {
          "output_type": "stream",
          "name": "stdout",
          "text": [
            "Color: blue\n"
          ]
        }
      ],
      "source": [
        "print(\"Color:\", color)\n"
      ]
    },
    {
      "cell_type": "code",
      "source": [
        "pi = 3.14159\n",
        "diameter = 3\n",
        "\n",
        "radius = diameter / 2\n",
        "\n",
        "area = pi * radius ** 2\n",
        "\n",
        "# Print the results\n",
        "print(\"Radius:\", radius)\n",
        "print(\"Area:\", area)\n"
      ],
      "metadata": {
        "colab": {
          "base_uri": "https://localhost:8080/"
        },
        "id": "aLu1fStWz6lw",
        "outputId": "8cad64f8-b30d-4316-ce61-a6c315e0a45f"
      },
      "execution_count": 68,
      "outputs": [
        {
          "output_type": "stream",
          "name": "stdout",
          "text": [
            "Radius: 1.5\n",
            "Area: 7.0685775\n"
          ]
        }
      ]
    },
    {
      "cell_type": "code",
      "source": [
        "a = 5\n",
        "b = 10\n",
        "\n",
        "(a, b) = (b, a)\n",
        "\n",
        "print(\"Setelah swap:\")\n",
        "print(\"a =\", a)\n",
        "print(\"b =\", b)"
      ],
      "metadata": {
        "colab": {
          "base_uri": "https://localhost:8080/"
        },
        "id": "4DTBy0YL0VpC",
        "outputId": "73dea00b-3802-4171-f354-4bfa24542161"
      },
      "execution_count": 14,
      "outputs": [
        {
          "output_type": "stream",
          "name": "stdout",
          "text": [
            "Setelah swap:\n",
            "a = 10\n",
            "b = 5\n"
          ]
        }
      ]
    },
    {
      "cell_type": "code",
      "source": [
        "(5 - 3) // 2"
      ],
      "metadata": {
        "colab": {
          "base_uri": "https://localhost:8080/"
        },
        "id": "CdEisRCh00dW",
        "outputId": "4eeb1d58-b38c-4a52-d6cc-b6b3bd81b020"
      },
      "execution_count": 15,
      "outputs": [
        {
          "output_type": "execute_result",
          "data": {
            "text/plain": [
              "1"
            ]
          },
          "metadata": {},
          "execution_count": 15
        }
      ]
    },
    {
      "cell_type": "code",
      "source": [
        "(8 - 3) * (2 - (1 + 1))"
      ],
      "metadata": {
        "colab": {
          "base_uri": "https://localhost:8080/"
        },
        "id": "qIRtyXTg07Th",
        "outputId": "f1dbde11-cd21-440f-fd9d-e765b42476a4"
      },
      "execution_count": 16,
      "outputs": [
        {
          "output_type": "execute_result",
          "data": {
            "text/plain": [
              "0"
            ]
          },
          "metadata": {},
          "execution_count": 16
        }
      ]
    },
    {
      "cell_type": "code",
      "source": [
        " alice_candies = 10\n",
        "bob_candies = 14\n",
        "carol_candies = 7\n",
        "\n",
        "\n",
        "to_smash = (alice_candies + bob_candies + carol_candies) % 3\n",
        "\n",
        "# Mencetak hasil\n",
        "print( to_smash)\n"
      ],
      "metadata": {
        "colab": {
          "base_uri": "https://localhost:8080/"
        },
        "id": "BM17mjp_1BFN",
        "outputId": "842d0b96-7d37-40f4-ce4c-db64ab2f46aa"
      },
      "execution_count": 69,
      "outputs": [
        {
          "output_type": "stream",
          "name": "stdout",
          "text": [
            "1\n"
          ]
        }
      ]
    },
    {
      "cell_type": "code",
      "source": [
        "def round_to_two_places(num):\n",
        "    return round(num, 2)\n",
        "\n",
        "# Contoh penggunaan\n",
        "print(round_to_two_places(3.14159))\n",
        "print(round_to_two_places(2.71828))\n",
        "print(round_to_two_places(5.55555))\n"
      ],
      "metadata": {
        "colab": {
          "base_uri": "https://localhost:8080/"
        },
        "id": "sHL5Lg1K1fyt",
        "outputId": "e3cde08c-ced2-431e-8b92-d3a4a7c7391b"
      },
      "execution_count": 22,
      "outputs": [
        {
          "output_type": "stream",
          "name": "stdout",
          "text": [
            "3.14\n",
            "2.72\n",
            "5.56\n"
          ]
        }
      ]
    },
    {
      "cell_type": "code",
      "source": [
        "ndigits=-1"
      ],
      "metadata": {
        "id": "buC7aX0K10-r"
      },
      "execution_count": 24,
      "outputs": []
    },
    {
      "cell_type": "code",
      "source": [
        "def round_to_nearest_ten(num):\n",
        "    return round(num, -1)\n",
        "\n",
        "# Contoh penggunaan\n",
        "print(round_to_nearest_ten(37))\n",
        "print(round_to_nearest_ten(84))\n",
        "print(round_to_nearest_ten(125))\n",
        "print(round_to_nearest_ten(49))\n"
      ],
      "metadata": {
        "colab": {
          "base_uri": "https://localhost:8080/"
        },
        "id": "MKUwUXec15b7",
        "outputId": "2bd0f682-3d61-4e4b-91f7-82e0ed139305"
      },
      "execution_count": 26,
      "outputs": [
        {
          "output_type": "stream",
          "name": "stdout",
          "text": [
            "40\n",
            "80\n",
            "120\n",
            "50\n"
          ]
        }
      ]
    },
    {
      "cell_type": "code",
      "source": [
        "def to_smash(total_candies, n_friends=3):\n",
        "    return total_candies % n_friends"
      ],
      "metadata": {
        "id": "APhhcrvV17ju"
      },
      "execution_count": 28,
      "outputs": []
    },
    {
      "cell_type": "code",
      "source": [
        "def to_smash(total_candies, n_friends=3):\n",
        "    return total_candies % n_friends\n",
        "\n",
        "# Contoh penggunaan\n",
        "print(to_smash(10))\n",
        "print(to_smash(14, 4))\n",
        "print(to_smash(25, 5))\n",
        "print(to_smash(7))\n"
      ],
      "metadata": {
        "colab": {
          "base_uri": "https://localhost:8080/"
        },
        "id": "H7mc48yp2LmH",
        "outputId": "12027976-d8b9-4d5d-e777-b2ab3f08f015"
      },
      "execution_count": 30,
      "outputs": [
        {
          "output_type": "stream",
          "name": "stdout",
          "text": [
            "1\n",
            "2\n",
            "0\n",
            "1\n"
          ]
        }
      ]
    },
    {
      "cell_type": "code",
      "source": [
        "def sign(x):\n",
        "    if x > 0:\n",
        "        return 1\n",
        "    elif x < 0:\n",
        "        return -1\n",
        "    else:\n",
        "        return 0"
      ],
      "metadata": {
        "id": "_MRlUKdA2dHA"
      },
      "execution_count": 32,
      "outputs": []
    },
    {
      "cell_type": "code",
      "source": [
        "def sign(x):\n",
        "    if x > 0:\n",
        "        return 1\n",
        "    elif x < 0:\n",
        "        return -1\n",
        "    else:\n",
        "        return 0\n",
        "\n",
        "# Contoh penggunaan\n",
        "print(sign(10))\n",
        "\n"
      ],
      "metadata": {
        "colab": {
          "base_uri": "https://localhost:8080/"
        },
        "id": "KXChxKf22x6-",
        "outputId": "1c7a0d56-08ee-4ba6-a151-32d131ee602d"
      },
      "execution_count": 67,
      "outputs": [
        {
          "output_type": "stream",
          "name": "stdout",
          "text": [
            "1\n"
          ]
        }
      ]
    },
    {
      "cell_type": "code",
      "source": [
        "def to_smash(total_candies):\n",
        "  print(\"Splitting\", total_candies, \"candy\" if total_candies == 1 else \"candies\")\n",
        "\n",
        "to_smash(91)"
      ],
      "metadata": {
        "colab": {
          "base_uri": "https://localhost:8080/"
        },
        "id": "q2Zj53pI2z7B",
        "outputId": "20a629f5-ef9c-42dd-a6ac-ad3ef86a6278"
      },
      "execution_count": 37,
      "outputs": [
        {
          "output_type": "stream",
          "name": "stdout",
          "text": [
            "Splitting 91 candies\n"
          ]
        }
      ]
    },
    {
      "cell_type": "code",
      "source": [
        "def prepared_for_weather(have_umbrella, rain_level, have_hood, is_workday):\n",
        "\n",
        "    return have_umbrella or rain_level < 5 and have_hood or not rain_level > 0 and is_workday\n",
        "\n",
        "\n",
        "have_umbrella = False\n",
        "rain_level = 0.0\n",
        "have_hood = False\n",
        "is_workday = False\n",
        "\n",
        "\n",
        "actual = prepared_for_weather(have_umbrella, rain_level, have_hood, is_workday)\n",
        "print(actual)"
      ],
      "metadata": {
        "colab": {
          "base_uri": "https://localhost:8080/"
        },
        "id": "Sixb1sIO3Ppn",
        "outputId": "f2f8948a-b4aa-4f10-d2ef-c75ddc1a40fb"
      },
      "execution_count": 39,
      "outputs": [
        {
          "output_type": "stream",
          "name": "stdout",
          "text": [
            "False\n"
          ]
        }
      ]
    },
    {
      "cell_type": "code",
      "source": [
        "def is_negative(number):\n",
        "    if number < 0:\n",
        "        return True\n",
        "    else:\n",
        "        return False\n",
        "\n",
        "def concise_is_negative(number):\n",
        "    return number < 0\n",
        "\n",
        "    print(is_negative(-5))\n",
        "print(is_negative(3))\n",
        "print(is_negative(0))\n",
        "\n",
        "\n"
      ],
      "metadata": {
        "colab": {
          "base_uri": "https://localhost:8080/"
        },
        "id": "GLGs6kRz3TWY",
        "outputId": "8aaaf515-59d2-4cac-bdd3-d0fba7878586"
      },
      "execution_count": 43,
      "outputs": [
        {
          "output_type": "stream",
          "name": "stdout",
          "text": [
            "False\n",
            "False\n"
          ]
        }
      ]
    },
    {
      "cell_type": "code",
      "source": [
        "def wants_all_toppings(ketchup, mustard, onion):\n",
        "    return ketchup and mustard and onion\n",
        "\n",
        "# Contoh pemanggilan fungsi\n",
        "print(wants_all_toppings(True, True, True))\n",
        "print(wants_all_toppings(True, False, True))\n",
        "print(wants_all_toppings(False, False, False))\n",
        "print(wants_all_toppings(True, True, False))\n"
      ],
      "metadata": {
        "colab": {
          "base_uri": "https://localhost:8080/"
        },
        "id": "ROqlt5rY3d76",
        "outputId": "f57ebd96-fafb-4db2-a4d1-e4530d5ebbd9"
      },
      "execution_count": 46,
      "outputs": [
        {
          "output_type": "stream",
          "name": "stdout",
          "text": [
            "True\n",
            "False\n",
            "False\n",
            "False\n"
          ]
        }
      ]
    },
    {
      "cell_type": "code",
      "source": [
        "def wants_plain_hotdog(ketchup, mustard, onion):\n",
        "    return not (ketchup or mustard or onion)\n",
        "\n",
        "# Contoh penggunaan\n",
        "print(wants_plain_hotdog(False, False, False))"
      ],
      "metadata": {
        "colab": {
          "base_uri": "https://localhost:8080/"
        },
        "id": "khHAyJwL31In",
        "outputId": "1619433c-f7aa-4d5c-ee24-2ace140e5699"
      },
      "execution_count": 49,
      "outputs": [
        {
          "output_type": "stream",
          "name": "stdout",
          "text": [
            "True\n"
          ]
        }
      ]
    },
    {
      "cell_type": "code",
      "source": [
        "def exactly_one_topping(ketchup, mustard, onion):\n",
        "    return (ketchup + mustard + onion) == 1\n",
        "\n",
        "# Contoh penggunaan\n",
        "print(exactly_one_topping(True, False, False))"
      ],
      "metadata": {
        "colab": {
          "base_uri": "https://localhost:8080/"
        },
        "id": "lTy9NGj14KWO",
        "outputId": "e35850cc-2689-4fa5-8a21-346cf23a9274"
      },
      "execution_count": 52,
      "outputs": [
        {
          "output_type": "stream",
          "name": "stdout",
          "text": [
            "True\n"
          ]
        }
      ]
    },
    {
      "cell_type": "code",
      "source": [
        "a = \"\"\n",
        "length = len(a)\n",
        "\n",
        "print(\"Panjang string a:\", length)\n"
      ],
      "metadata": {
        "colab": {
          "base_uri": "https://localhost:8080/"
        },
        "id": "weYtIfkE4qUB",
        "outputId": "389fe9f9-2f46-4a24-b2bd-7c52e14d8c97"
      },
      "execution_count": 54,
      "outputs": [
        {
          "output_type": "stream",
          "name": "stdout",
          "text": [
            "Panjang string a: 0\n"
          ]
        }
      ]
    },
    {
      "cell_type": "code",
      "source": [
        "b = \"it's ok\"\n",
        "length = 7\n",
        "print(\"panjang string b:\", length)"
      ],
      "metadata": {
        "colab": {
          "base_uri": "https://localhost:8080/"
        },
        "id": "-nlwR--44tNJ",
        "outputId": "df8109b1-47b7-4548-9e10-fa6925f40a56"
      },
      "execution_count": 57,
      "outputs": [
        {
          "output_type": "stream",
          "name": "stdout",
          "text": [
            "panjang string b: 7\n"
          ]
        }
      ]
    },
    {
      "cell_type": "code",
      "source": [
        "def is_valid_zip(zip_code):\n",
        "    return len(zip_code) == 5 and zip_code.isdigit()\n",
        "\n",
        "# Contoh penggunaan\n",
        "print(is_valid_zip(\"12345\"))"
      ],
      "metadata": {
        "colab": {
          "base_uri": "https://localhost:8080/"
        },
        "id": "iU8Q0_rY5Foj",
        "outputId": "82a829a4-e888-41d6-d00d-3efe5c0597a2"
      },
      "execution_count": 60,
      "outputs": [
        {
          "output_type": "stream",
          "name": "stdout",
          "text": [
            "True\n"
          ]
        }
      ]
    },
    {
      "cell_type": "code",
      "source": [
        "def word_search(doc_list, keyword):\n",
        "\n",
        "    indices = []\n",
        "\n",
        "    for i, doc in enumerate(doc_list):\n",
        "\n",
        "        tokens = doc.split()\n",
        "\n",
        "        normalized = [token.rstrip('.,').lower() for token in tokens]\n",
        "\n",
        "        if keyword.lower() in normalized:\n",
        "            indices.append(i)\n",
        "    return indices"
      ],
      "metadata": {
        "id": "yDghHVCX5YJ1"
      },
      "execution_count": 63,
      "outputs": []
    },
    {
      "cell_type": "code",
      "source": [
        "import matplotlib.pyplot as plt\n",
        "import numpy as np\n",
        "import matplotlib.ticker as ticker\n",
        "\n",
        "def prettify_graph(graph):\n",
        "    graph.set_title(\"Results of 500 slot machine pulls\")\n",
        "    graph.set_ylim(bottom=0)\n",
        "    graph.set_ylabel(\"Balance\")\n",
        "\n",
        "    ticks = graph.get_yticks()\n",
        "    new_labels = ['${}'.format(int(amt)) for amt in ticks]\n",
        "\n",
        "\n",
        "    graph.yaxis.set_major_locator(ticker.FixedLocator(ticks))\n",
        "    graph.set_yticklabels(new_labels)\n",
        "\n",
        "# Contoh penggunaan dengan grafik\n",
        "x = np.linspace(0, 10, 100)\n",
        "y = np.random.randint(100, 500, 100)\n",
        "\n",
        "fig, ax = plt.subplots()\n",
        "ax.plot(x, y)\n",
        "\n",
        "prettify_graph(ax)\n",
        "\n",
        "plt.show()\n"
      ],
      "metadata": {
        "colab": {
          "base_uri": "https://localhost:8080/",
          "height": 452
        },
        "id": "RfHc43-v5rfO",
        "outputId": "7f9e0f36-554d-4ca3-dc49-7efa3f176c5c"
      },
      "execution_count": 66,
      "outputs": [
        {
          "output_type": "display_data",
          "data": {
            "text/plain": [
              "<Figure size 640x480 with 1 Axes>"
            ],
            "image/png": "[encoded data removed]"
          },
          "metadata": {}
        }
      ]
    },
    {
      "cell_type": "code",
      "source": [
        "def hand_total(hand):\n",
        "    \"\"\"Helper function to calculate the total points of a blackjack hand.\n",
        "    \"\"\"\n",
        "    total = 0\n",
        "\n",
        "    aces = 0\n",
        "    for card in hand:\n",
        "        if card in ['J', 'Q', 'K']:\n",
        "            total += 10\n",
        "        elif card == 'A':\n",
        "            aces += 1\n",
        "        else:\n",
        "\n",
        "            total += int(card)\n",
        "\n",
        "    total += aces\n",
        "\n",
        "    while total + 10 <= 21 and aces > 0:\n",
        "\n",
        "        total += 10\n",
        "        aces -= 1\n",
        "    return total\n",
        "\n",
        "def blackjack_hand_greater_than(hand_1, hand_2):\n",
        "    total_1 = hand_total(hand_1)\n",
        "    total_2 = hand_total(hand_2)\n",
        "    return total_1 <= 21 and (total_1 > total_2 or total_2 > 21)\n",
        "\n",
        "    # Contoh penggunaan\n",
        "hands = [\n",
        "    ([\"10\", \"A\"], [\"9\", \"9\"]),\n",
        "    ([\"10\", \"5\", \"6\"], [\"10\", \"7\"])]\n",
        "\n",
        "for hand_1, hand_2 in hands:\n",
        "    result = blackjack_hand_greater_than(hand_1, hand_2)\n",
        "    print(f\"Hand 1: {hand_1} ({hand_total(hand_1)}) vs Hand 2: {hand_2} ({hand_total(hand_2)}) -> {result}\")\n"
      ],
      "metadata": {
        "colab": {
          "base_uri": "https://localhost:8080/"
        },
        "id": "_-ioHOT_7NDW",
        "outputId": "7ecdbb25-3a88-49d4-f3c2-8c68f6880f6d"
      },
      "execution_count": 75,
      "outputs": [
        {
          "output_type": "stream",
          "name": "stdout",
          "text": [
            "Hand 1: ['10', 'A'] (21) vs Hand 2: ['9', '9'] (18) -> True\n",
            "Hand 1: ['10', '5', '6'] (21) vs Hand 2: ['10', '7'] (17) -> True\n"
          ]
        }
      ]
    }
  ]
}